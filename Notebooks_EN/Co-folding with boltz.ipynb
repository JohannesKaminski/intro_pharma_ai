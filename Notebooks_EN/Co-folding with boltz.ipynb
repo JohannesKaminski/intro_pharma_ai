{
 "cells": [
  {
   "cell_type": "markdown",
   "id": "e1138bdf",
   "metadata": {},
   "source": [
    "\n",
    "# Co-folding with Boltz\n",
    "\n",
    "*Disclaimer: This topic is a very active area of research and thus prone to quick changes. The Notebook was last edited on 30.06.2025*\n",
    "\n",
    "---\n",
    "### In this lesson you'll learn:\n",
    "\n",
    "- how to predict a protein structure from the amino acid sequence.\n",
    "- how to predict the structure of a protein-ligand complex from sequence and SMILES.\n",
    "- about current limitations of co-folding methods.\n",
    "\n",
    "---\n",
    "\n",
    "This notebook is about protein folding, especially *co-folding*, i.e. not just the prediciton of the 3D protein structure from the sequence but also the placement of a ligand in the correct conformation and binding pocket.  \n",
    "\n",
    "While protein-folding was largly solved by [Alphafold2](https://doi.org/10.1038/s41586-021-03819-2), newer models try to solve the structure of protein-ligand complexes from the sequence and a SMILES. Finding the binding conformation is typically done using docking software such as [gnina](https://github.com/gnina/gnina), [GOLD](https://www.ccdc.cam.ac.uk/solutions/software/gold/) or [Glide](https://www.schrodinger.com/platform/products/glide/). \n",
    "\n",
    "Google's [Alphafold3](https://github.com/google-deepmind/alphafold3) is still one of the top performing models for co-folding, but in this notebook we'll be using [Boltz](https://github.com/jwohlwend/boltz), specifically Boltz2. As of writing, this is the newest co-folding model and even offers binding strenght estimation, which we'll  have a look at at the end of the notebook. \n",
    "\n",
    "---"
   ]
  },
  {
   "cell_type": "markdown",
   "id": "d1ee16ca",
   "metadata": {},
   "source": [
    "## Installation, Google Colab and the Command Line\n",
    "\n",
    "**Optional Boltz Install**: To complete this notebook, it is not necessary to install Boltz, but we give the option to do so. Another great resource to try out Boltz in Google Colab is [this Notebook](https://colab.research.google.com/github/kimjc95/computational-chemistry/blob/main/Boltz_on_Colab.ipynb).\n",
    "\n",
    "**Local install**: This Notebook is created to be run with Google Colab and the following cells will install Boltz and its dependencies. If you want to run Boltz locally (recommended if you have a strong GPU) please follow the instructions [here]() and install on linux or in WSL. Please then just execute the escaped linux commands (the commands starting with `!`, e.g. `!boltz predict example_file.fasta`). Note that you might need to resolve the paths (where the files are stored).\n",
    "\n",
    "**Google Colab**: Make sure you are connected to a runtime with GPU support (go to the upper right corner, open the drop-down menu, select \"change runtime type\" and make sure a Hardware Accelerator other than CPU is selected).\n",
    "\n",
    "**Command Line**: As Boltz is a command line program, we will be using a few linux commands instead of typical python code. You can recognize these commands by the `!` which is used to tell the python interpreter to pass this  command to the underlying operating system.\n",
    "\n",
    "---"
   ]
  },
  {
   "cell_type": "code",
   "execution_count": null,
   "id": "d334d2ba",
   "metadata": {
    "vscode": {
     "languageId": "plaintext"
    }
   },
   "outputs": [],
   "source": [
    "# Install py3Dmol for viewing\n",
    "!pip install py3Dmol"
   ]
  },
  {
   "cell_type": "markdown",
   "id": "6db37f79",
   "metadata": {},
   "source": [
    "## (Optional) Run an actual Boltz Prediciton"
   ]
  },
  {
   "cell_type": "code",
   "execution_count": null,
   "id": "274a089a",
   "metadata": {
    "vscode": {
     "languageId": "plaintext"
    }
   },
   "outputs": [],
   "source": [
    "# Installation (for Google Colab only)\n",
    "# this code was adapted from [Joo-Chan Kim](https://zenodo.org/records/14881401)\n",
    "\n",
    "import os\n",
    "import subprocess\n",
    "\n",
    "print('Installing dependencies (estimate: 2min) ... ', end='')\n",
    "dependencies = \"torch torchvision torchaudio numpy hydra-core pytorch-lightning \"\n",
    "dependencies += \"rdkit dm-tree requests pandas types-requests einops einx fairscale \"\n",
    "dependencies += \"mashumaro modelcif wandb click pyyaml biopython scipy numba gemmi \"\n",
    "dependencies += \"scikit-learn chembl_structure_pipeline \"\n",
    "dependencies += \"cuequivariance_ops_cu12 cuequivariance_ops_torch_cu12 cuequivariance_torch\"\n",
    "\n",
    "precision = '32-true'\n",
    "\n",
    "subprocess.run(\"pip install ipywidgets torch torchvision torchaudio\", shell=True)\n",
    "subprocess.run(\"git clone https://github.com/jwohlwend/boltz.git\", shell=True)\n",
    "subprocess.run(f\"sed -i 's/bf16-mixed/{precision}/g' /content/boltz/src/boltz/main.py\", shell=True)\n",
    "subprocess.run(f\"pip install {dependencies}\", shell=True)\n",
    "subprocess.run(\"cd boltz; pip install --no-deps -e .\", shell=True)\n",
    "\n",
    "print('done.')"
   ]
  },
  {
   "cell_type": "markdown",
   "id": "3fa4f4ef",
   "metadata": {},
   "source": [
    "Now we'll create a very simple fasta file using some linux commands:"
   ]
  },
  {
   "cell_type": "code",
   "execution_count": null,
   "id": "96760cb4",
   "metadata": {
    "vscode": {
     "languageId": "plaintext"
    }
   },
   "outputs": [],
   "source": [
    "# `echo` is the linux way of using `print()` and with the `>` we write the ouput to a file\n",
    "!echo -e \">A|protein|empty\\nAAAA\\n\" > peptide.fasta"
   ]
  },
  {
   "cell_type": "code",
   "execution_count": null,
   "id": "6fb3ee5c",
   "metadata": {
    "vscode": {
     "languageId": "plaintext"
    }
   },
   "outputs": [],
   "source": [
    "# we can have a look at the file with `cat`\n",
    "!cat peptide.fasta"
   ]
  },
  {
   "cell_type": "markdown",
   "id": "672d4593",
   "metadata": {},
   "source": [
    "Now we can use `boltz predict peptide.fasta` to predict the structure of the small peptide.\n",
    "Note that we used the keyword `empty` in our `.fasta` file. This will lead to much worse performance, because we don't do any sequence alignment.\n",
    "Normally, we would have to add the --use_msa_server keyword to use an external server for the sequence alignment (or a supply our own .a3m file)."
   ]
  },
  {
   "cell_type": "code",
   "execution_count": null,
   "id": "15e59cd7",
   "metadata": {
    "vscode": {
     "languageId": "plaintext"
    }
   },
   "outputs": [],
   "source": [
    "!boltz predict peptide.fasta"
   ]
  },
  {
   "cell_type": "markdown",
   "id": "e9624771",
   "metadata": {},
   "source": [
    "The output is saved in the folder `boltz_results_peptide` and we can use Google Colabs file browser (the folder symbol on the left hotbar). The actual predicted 3D structure can be visualized using py3Dmol."
   ]
  },
  {
   "cell_type": "code",
   "execution_count": null,
   "id": "b78c3840",
   "metadata": {
    "vscode": {
     "languageId": "plaintext"
    }
   },
   "outputs": [],
   "source": [
    "import py3Dmol \n",
    "fasta_name = 'peptide'\n",
    "\n",
    "with open(f\"boltz_results_{fasta_name}/predictions/{fasta_name}/{fasta_name}_model_0.cif\") as ifile:\n",
    "    system = \"\".join([x for x in ifile])\n",
    "\n",
    "view = py3Dmol.view(width=400, height=300)\n",
    "view.addModelsAsFrames(system)\n",
    "view.setStyle({'model': -1}, {\"cartoon\": {'color': 'spectrum'}})\n",
    "view.zoomTo()\n",
    "view.show()"
   ]
  },
  {
   "cell_type": "markdown",
   "id": "a89cf415",
   "metadata": {},
   "source": [
    "### Make "
   ]
  },
  {
   "cell_type": "code",
   "execution_count": null,
   "id": "bb34e400",
   "metadata": {
    "vscode": {
     "languageId": "plaintext"
    }
   },
   "outputs": [],
   "source": [
    "#@title (Optional) Make a Boltz prediction\n",
    "\n"
   ]
  },
  {
   "cell_type": "markdown",
   "id": "a6ea76e4",
   "metadata": {},
   "source": [
    "\n",
    "<details>\n",
    "<summary><strong>How to hide part of a cell:</strong></summary>\n",
    "\n",
    "hidden details\n",
    "\n",
    "</details>"
   ]
  },
  {
   "cell_type": "code",
   "execution_count": null,
   "id": "e1afba06",
   "metadata": {
    "vscode": {
     "languageId": "plaintext"
    }
   },
   "outputs": [],
   "source": [
    "import py3Dmol \n",
    "\n",
    "with open(\"boltz_results_ligand/predictions/ligand/ligand_model_0.cif\") as ifile:\n",
    "# s.listdir('boltz_results_ligand/predictions/ligand/ligand_model0.cif')\n",
    "    system = \"\".join([x for x in ifile])\n",
    "\n",
    "view = py3Dmol.view(width=400, height=300)\n",
    "view.addModelsAsFrames(system)\n",
    "view.setStyle({'model': -1}, {\"cartoon\": {'color': 'spectrum'}})\n",
    "view.zoomTo()\n",
    "view.show("
   ]
  }
 ],
 "metadata": {
  "language_info": {
   "name": "python"
  }
 },
 "nbformat": 4,
 "nbformat_minor": 5
}
